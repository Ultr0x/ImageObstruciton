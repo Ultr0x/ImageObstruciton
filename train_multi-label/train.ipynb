{
 "cells": [
  {
   "cell_type": "markdown",
   "id": "07bb11de",
   "metadata": {},
   "source": [
    "# Multi-label Image Classification using Pretrained VGG16 Model"
   ]
  },
  {
   "cell_type": "markdown",
   "id": "6c5d7764",
   "metadata": {},
   "source": [
    "This notebook outlines an approach to a multi-label image classification problem encompassing six classes, by leveraging the power of Transfer Learning with the pre-trained VGG16 model.\n",
    "\n",
    "**Transfer Learning with VGG16**: This method utilizes the robust VGG16 model, pre-trained on the extensive ImageNet dataset. Through Transfer Learning, we can harness the feature extraction capabilities of VGG16 to our specific problem, significantly enhancing performance and accuracy, especially when dealing with a relatively smaller dataset.\n",
    "\n",
    "**ImageDataGenerator for data handling**: The dataset for this project comprises images falling under six distinct classes. The data is structured as a single folder with all images and a CSV file containing zero-shot encoded values and IDs of the images. We utilize Keras's ImageDataGenerator for efficient image loading, pre-processing, and  fast data augmentation, providing more diverse training data and improving model generalization. ImageDataGenerator also splits the data into training and validation sets for model evaluation."
   ]
  },
  {
   "cell_type": "markdown",
   "id": "93d7a0ae",
   "metadata": {},
   "source": [
    "## Importing the necessary libraries"
   ]
  },
  {
   "cell_type": "code",
   "execution_count": 56,
   "id": "ef1ac961",
   "metadata": {},
   "outputs": [],
   "source": [
    "import cv2\n",
    "from matplotlib import pyplot as plt\n",
    "import os\n",
    "import tensorflow as tf\n",
    "import tensorflow.keras as keras\n",
    "import numpy as np\n",
    "from tensorflow.keras.applications import VGG16\n",
    "from tensorflow.keras.models import Sequential\n",
    "from tensorflow.keras.layers import Flatten, Dense, Dropout\n",
    "from tensorflow.keras.callbacks import ModelCheckpoint\n",
    "from tensorflow.keras.preprocessing.image import ImageDataGenerator\n",
    "from keras.models import Sequential\n",
    "from keras.layers import Dense, Dropout, Flatten\n",
    "from keras.layers import Conv2D, MaxPooling2D\n",
    "from keras.utils import to_categorical\n",
    "from keras.preprocessing import image\n",
    "from IPython.display import Image, display\n",
    "from tensorflow.keras.preprocessing import image\n",
    "from tensorflow.keras.applications.vgg16 import preprocess_input\n",
    "import keras\n",
    "import pandas as pd\n",
    "import matplotlib.pyplot as plt\n",
    "import sklearn\n",
    "from sklearn.model_selection import train_test_split\n",
    "from tqdm import tqdm\n",
    "import csv"
   ]
  },
  {
   "cell_type": "markdown",
   "id": "f6cdbc61",
   "metadata": {},
   "source": [
    "## Loading CSV"
   ]
  },
  {
   "cell_type": "code",
   "execution_count": 43,
   "id": "466daadf",
   "metadata": {},
   "outputs": [
    {
     "data": {
      "text/html": [
       "<div>\n",
       "<style scoped>\n",
       "    .dataframe tbody tr th:only-of-type {\n",
       "        vertical-align: middle;\n",
       "    }\n",
       "\n",
       "    .dataframe tbody tr th {\n",
       "        vertical-align: top;\n",
       "    }\n",
       "\n",
       "    .dataframe thead th {\n",
       "        text-align: right;\n",
       "    }\n",
       "</style>\n",
       "<table border=\"1\" class=\"dataframe\">\n",
       "  <thead>\n",
       "    <tr style=\"text-align: right;\">\n",
       "      <th></th>\n",
       "      <th>id</th>\n",
       "      <th>glasses</th>\n",
       "      <th>hand</th>\n",
       "      <th>mask</th>\n",
       "      <th>none</th>\n",
       "      <th>other</th>\n",
       "      <th>sunglasses</th>\n",
       "    </tr>\n",
       "  </thead>\n",
       "  <tbody>\n",
       "    <tr>\n",
       "      <th>0</th>\n",
       "      <td>i00001.jpg</td>\n",
       "      <td>1</td>\n",
       "      <td>0</td>\n",
       "      <td>0</td>\n",
       "      <td>0</td>\n",
       "      <td>0</td>\n",
       "      <td>0</td>\n",
       "    </tr>\n",
       "    <tr>\n",
       "      <th>1</th>\n",
       "      <td>i00002.jpg</td>\n",
       "      <td>1</td>\n",
       "      <td>0</td>\n",
       "      <td>0</td>\n",
       "      <td>0</td>\n",
       "      <td>0</td>\n",
       "      <td>0</td>\n",
       "    </tr>\n",
       "    <tr>\n",
       "      <th>2</th>\n",
       "      <td>i00003.jpg</td>\n",
       "      <td>1</td>\n",
       "      <td>0</td>\n",
       "      <td>0</td>\n",
       "      <td>0</td>\n",
       "      <td>0</td>\n",
       "      <td>0</td>\n",
       "    </tr>\n",
       "    <tr>\n",
       "      <th>3</th>\n",
       "      <td>i00004.jpg</td>\n",
       "      <td>1</td>\n",
       "      <td>0</td>\n",
       "      <td>0</td>\n",
       "      <td>0</td>\n",
       "      <td>0</td>\n",
       "      <td>0</td>\n",
       "    </tr>\n",
       "    <tr>\n",
       "      <th>4</th>\n",
       "      <td>i00005.jpg</td>\n",
       "      <td>1</td>\n",
       "      <td>1</td>\n",
       "      <td>0</td>\n",
       "      <td>0</td>\n",
       "      <td>0</td>\n",
       "      <td>0</td>\n",
       "    </tr>\n",
       "  </tbody>\n",
       "</table>\n",
       "</div>"
      ],
      "text/plain": [
       "           id  glasses  hand  mask  none  other  sunglasses\n",
       "0  i00001.jpg        1     0     0     0      0           0\n",
       "1  i00002.jpg        1     0     0     0      0           0\n",
       "2  i00003.jpg        1     0     0     0      0           0\n",
       "3  i00004.jpg        1     0     0     0      0           0\n",
       "4  i00005.jpg        1     1     0     0      0           0"
      ]
     },
     "execution_count": 43,
     "metadata": {},
     "output_type": "execute_result"
    }
   ],
   "source": [
    "# read the CSV file\n",
    "df = pd.read_csv('dataset_5_small.csv')\n",
    "\n",
    "df.head()\n"
   ]
  },
  {
   "cell_type": "code",
   "execution_count": 44,
   "id": "f803e65b",
   "metadata": {},
   "outputs": [],
   "source": [
    "# Convert 'id' column to strings\n",
    "df['id'] = df['id'].astype(str)\n"
   ]
  },
  {
   "cell_type": "code",
   "execution_count": 45,
   "id": "ad1d5b9c",
   "metadata": {},
   "outputs": [],
   "source": [
    "#number of classes\n",
    "num_classes=6"
   ]
  },
  {
   "cell_type": "markdown",
   "id": "d814079d",
   "metadata": {},
   "source": [
    "## Dataset"
   ]
  },
  {
   "cell_type": "code",
   "execution_count": 46,
   "id": "a5585adf",
   "metadata": {},
   "outputs": [
    {
     "name": "stdout",
     "output_type": "stream",
     "text": [
      "Found 9497 validated image filenames.\n",
      "Found 2374 validated image filenames.\n"
     ]
    }
   ],
   "source": [
    "import csv\n",
    "import os\n",
    "\n",
    "# Create a ImageDataGenerator instance for image normalization, augmentation and validation split\n",
    "datagen = ImageDataGenerator(\n",
    "    rescale=1./255, \n",
    "    validation_split=0.2,\n",
    "    horizontal_flip=True,\n",
    "    rotation_range=20,\n",
    "    zoom_range=0.15,\n",
    "    width_shift_range=0.2,\n",
    "    height_shift_range=0.2,\n",
    "    shear_range=0.15,\n",
    "    fill_mode=\"nearest\"\n",
    ")\n",
    "\n",
    "# Image directory path\n",
    "image_directory = 'dataset'\n",
    "\n",
    "# Generate data for training and validation\n",
    "train_generator = datagen.flow_from_dataframe(\n",
    "    dataframe=df,\n",
    "    directory=image_directory,\n",
    "    x_col='id',\n",
    "    y_col=['glasses', 'hand', 'mask', 'none', 'other', 'sunglasses'],\n",
    "    target_size=(150, 150),\n",
    "    batch_size=32,\n",
    "    class_mode='raw',\n",
    "    subset='training'\n",
    ")\n",
    "\n",
    "validation_generator = datagen.flow_from_dataframe(\n",
    "    dataframe=df,\n",
    "    directory=image_directory,\n",
    "    x_col='id',\n",
    "    y_col=['glasses', 'hand', 'mask', 'none', 'other', 'sunglasses'],\n",
    "    target_size=(150, 150),\n",
    "    batch_size=32,\n",
    "    class_mode='raw',\n",
    "    subset='validation'\n",
    ")"
   ]
  },
  {
   "cell_type": "markdown",
   "id": "13605329",
   "metadata": {},
   "source": [
    "## Model Structure"
   ]
  },
  {
   "cell_type": "code",
   "execution_count": 47,
   "id": "bab32d65",
   "metadata": {},
   "outputs": [
    {
     "name": "stdout",
     "output_type": "stream",
     "text": [
      "Model: \"sequential_7\"\n",
      "_________________________________________________________________\n",
      " Layer (type)                Output Shape              Param #   \n",
      "=================================================================\n",
      " vgg16 (Functional)          (None, 4, 4, 512)         14714688  \n",
      "                                                                 \n",
      " flatten_7 (Flatten)         (None, 8192)              0         \n",
      "                                                                 \n",
      " dense_17 (Dense)            (None, 512)               4194816   \n",
      "                                                                 \n",
      " dropout_7 (Dropout)         (None, 512)               0         \n",
      "                                                                 \n",
      " dense_18 (Dense)            (None, 6)                 3078      \n",
      "                                                                 \n",
      "=================================================================\n",
      "Total params: 18,912,582\n",
      "Trainable params: 4,197,894\n",
      "Non-trainable params: 14,714,688\n",
      "_________________________________________________________________\n"
     ]
    }
   ],
   "source": [
    "# Define the directory to save the models\n",
    "save_dir = \"./saved_models_multi-label\"\n",
    "os.makedirs(save_dir, exist_ok=True)\n",
    "\n",
    "# Load the pre-trained VGG16 model without the top layers\n",
    "base_model = VGG16(weights='imagenet', include_top=False, input_shape=(150, 150, 3))\n",
    "\n",
    "# Freeze the weights of the pre-trained layers\n",
    "base_model.trainable = False\n",
    "\n",
    "# Create a ModelCheckpoint callback to save the model\n",
    "checkpoint_template = os.path.join(save_dir, \"model_epoch{epoch:02d}.h5\")\n",
    "checkpoint_callback = ModelCheckpoint(filepath=checkpoint_template, save_freq=\"epoch\")\n",
    "\n",
    "# Create the model\n",
    "model = Sequential([\n",
    "    base_model,\n",
    "    Flatten(),\n",
    "    Dense(512, activation='relu'),\n",
    "    Dropout(0.3),\n",
    "    Dense(num_classes, activation='sigmoid')\n",
    "])\n",
    "\n",
    "# Compile the model\n",
    "model.compile(optimizer='adam',\n",
    "               loss='binary_crossentropy',\n",
    "               metrics=['accuracy'])\n",
    "\n",
    "# Display the model summary\n",
    "model.summary()\n",
    "\n",
    "\n",
    "\n",
    "\n"
   ]
  },
  {
   "cell_type": "markdown",
   "id": "b410007f",
   "metadata": {},
   "source": [
    "## Train the model"
   ]
  },
  {
   "cell_type": "code",
   "execution_count": 48,
   "id": "cdc1d52c",
   "metadata": {},
   "outputs": [
    {
     "name": "stdout",
     "output_type": "stream",
     "text": [
      "Epoch 1/20\n",
      "296/296 [==============================] - 71s 236ms/step - loss: 0.1621 - accuracy: 0.8348 - val_loss: 0.7736 - val_accuracy: 0.2437\n",
      "Epoch 2/20\n",
      "296/296 [==============================] - 67s 227ms/step - loss: 0.1159 - accuracy: 0.8733 - val_loss: 0.7666 - val_accuracy: 0.2378\n",
      "Epoch 3/20\n",
      "296/296 [==============================] - 69s 233ms/step - loss: 0.1060 - accuracy: 0.8814 - val_loss: 0.7094 - val_accuracy: 0.2660\n",
      "Epoch 4/20\n",
      "296/296 [==============================] - 70s 235ms/step - loss: 0.0993 - accuracy: 0.8868 - val_loss: 0.6815 - val_accuracy: 0.2711\n",
      "Epoch 5/20\n",
      "296/296 [==============================] - 69s 235ms/step - loss: 0.0964 - accuracy: 0.8895 - val_loss: 0.7259 - val_accuracy: 0.2551\n",
      "Epoch 6/20\n",
      "296/296 [==============================] - 68s 229ms/step - loss: 0.0959 - accuracy: 0.8918 - val_loss: 0.7942 - val_accuracy: 0.2703\n",
      "Epoch 7/20\n",
      "296/296 [==============================] - 67s 225ms/step - loss: 0.0903 - accuracy: 0.8949 - val_loss: 0.6532 - val_accuracy: 0.2673\n",
      "Epoch 8/20\n",
      "296/296 [==============================] - 70s 235ms/step - loss: 0.0904 - accuracy: 0.8935 - val_loss: 0.7487 - val_accuracy: 0.2707\n",
      "Epoch 9/20\n",
      "296/296 [==============================] - 66s 223ms/step - loss: 0.0859 - accuracy: 0.9011 - val_loss: 0.6796 - val_accuracy: 0.2749\n",
      "Epoch 10/20\n",
      "296/296 [==============================] - 67s 228ms/step - loss: 0.0852 - accuracy: 0.9026 - val_loss: 0.8238 - val_accuracy: 0.2787\n",
      "Epoch 11/20\n",
      "296/296 [==============================] - 66s 223ms/step - loss: 0.0818 - accuracy: 0.9047 - val_loss: 0.7143 - val_accuracy: 0.2796\n",
      "Epoch 12/20\n",
      "296/296 [==============================] - 67s 228ms/step - loss: 0.0832 - accuracy: 0.9030 - val_loss: 0.7478 - val_accuracy: 0.2635\n",
      "Epoch 13/20\n",
      "296/296 [==============================] - 68s 229ms/step - loss: 0.0809 - accuracy: 0.9047 - val_loss: 0.7828 - val_accuracy: 0.2660\n",
      "Epoch 14/20\n",
      "296/296 [==============================] - 67s 225ms/step - loss: 0.0794 - accuracy: 0.9068 - val_loss: 0.7120 - val_accuracy: 0.2766\n",
      "Epoch 15/20\n",
      "296/296 [==============================] - 68s 231ms/step - loss: 0.0769 - accuracy: 0.9111 - val_loss: 0.6468 - val_accuracy: 0.2791\n",
      "Epoch 16/20\n",
      "296/296 [==============================] - 70s 235ms/step - loss: 0.0784 - accuracy: 0.9053 - val_loss: 0.6691 - val_accuracy: 0.2842\n",
      "Epoch 17/20\n",
      "296/296 [==============================] - 68s 230ms/step - loss: 0.0733 - accuracy: 0.9146 - val_loss: 0.7076 - val_accuracy: 0.3167\n",
      "Epoch 18/20\n",
      "296/296 [==============================] - 72s 242ms/step - loss: 0.0738 - accuracy: 0.9142 - val_loss: 0.7640 - val_accuracy: 0.2796\n",
      "Epoch 19/20\n",
      "296/296 [==============================] - 80s 272ms/step - loss: 0.0762 - accuracy: 0.9146 - val_loss: 0.7632 - val_accuracy: 0.2741\n",
      "Epoch 20/20\n",
      "296/296 [==============================] - 68s 229ms/step - loss: 0.0696 - accuracy: 0.9170 - val_loss: 0.7212 - val_accuracy: 0.2922\n"
     ]
    }
   ],
   "source": [
    "#set epochs number\n",
    "epochs_num = 20\n",
    "\n",
    "# Train the model\n",
    "history = model.fit(\n",
    "    train_generator,\n",
    "    steps_per_epoch=train_generator.samples // train_generator.batch_size,\n",
    "    epochs=epochs_num,\n",
    "    validation_data=validation_generator,\n",
    "    validation_steps=validation_generator.samples // validation_generator.batch_size,\n",
    "    callbacks=[checkpoint_callback]\n",
    ")"
   ]
  },
  {
   "cell_type": "code",
   "execution_count": 49,
   "id": "754ffe73",
   "metadata": {},
   "outputs": [],
   "source": [
    "# Save the model\n",
    "model.save('model_VGG16_multi-label.h5')"
   ]
  },
  {
   "cell_type": "markdown",
   "id": "06225c30",
   "metadata": {},
   "source": [
    "## Plotting the model performance over epochs"
   ]
  },
  {
   "cell_type": "code",
   "execution_count": 50,
   "id": "3daf41cb",
   "metadata": {},
   "outputs": [
    {
     "data": {
      "image/png": "[encoded data removed]",
      "text/plain": [
       "<Figure size 640x480 with 1 Axes>"
      ]
     },
     "metadata": {},
     "output_type": "display_data"
    }
   ],
   "source": [
    "# plot the training loss and accuracy\n",
    "N = epochs_num+1\n",
    "plt.style.use(\"ggplot\")\n",
    "plt.figure()\n",
    "plt.plot(np.arange(1, N), history.history[\"accuracy\"], label=\"train_acc\")\n",
    "plt.plot(np.arange(1, N), history.history[\"val_accuracy\"], label=\"val_acc\")\n",
    "plt.title(\"Training Loss and Accuracy\")\n",
    "plt.xlabel(\"Epoch #\")\n",
    "plt.ylabel(\"Loss/Accuracy\")\n",
    "plt.legend(loc=\"lower left\")\n",
    "plt.savefig('evaluationVGG_multilabel_small_DataAugmentation.png')"
   ]
  },
  {
   "cell_type": "code",
   "execution_count": 51,
   "id": "2a3c8e59",
   "metadata": {},
   "outputs": [
    {
     "data": {
      "image/png": "[encoded data removed]",
      "text/plain": [
       "<Figure size 640x480 with 1 Axes>"
      ]
     },
     "metadata": {},
     "output_type": "display_data"
    }
   ],
   "source": [
    "# plot the training loss\n",
    "N = epochs_num+1\n",
    "plt.style.use(\"ggplot\")\n",
    "plt.figure()\n",
    "plt.plot(np.arange(1, N), history.history[\"loss\"], label=\"train_loss\")\n",
    "plt.plot(np.arange(1, N), history.history[\"val_loss\"], label=\"val_loss\")\n",
    "plt.title(\"Training Loss and Accuracy\")\n",
    "plt.xlabel(\"Epoch #\")\n",
    "plt.ylabel(\"Loss/Accuracy\")\n",
    "plt.legend(loc=\"lower left\")\n",
    "plt.savefig('evaluationVGG_multilabel_small_DataAugmentation.png')"
   ]
  },
  {
   "cell_type": "markdown",
   "id": "9531a64b",
   "metadata": {},
   "source": [
    "### From this graph, it can be seen that propably the best model would be epoch 7\n",
    "### It has the lowest validation loss of 0.6532 or epoch 17, which has highest validation accuracy of 0.3167.\n",
    "### Still it seems that the model generalizes the data much worse than the binary single-label classifier and does not improve with time"
   ]
  },
  {
   "cell_type": "markdown",
   "id": "e165d388",
   "metadata": {},
   "source": [
    "### Template for loading the model"
   ]
  },
  {
   "cell_type": "code",
   "execution_count": 54,
   "id": "7e9b1915",
   "metadata": {},
   "outputs": [],
   "source": [
    "from tensorflow.keras.models import load_model\n",
    "\n",
    "# Load the saved model\n",
    "loaded_model = load_model('./saved_models_multi-label/model_epoch17.h5')"
   ]
  },
  {
   "cell_type": "markdown",
   "id": "b351fb64",
   "metadata": {},
   "source": [
    "## Template for classifying a test image"
   ]
  },
  {
   "cell_type": "code",
   "execution_count": 57,
   "id": "648ae4fb",
   "metadata": {},
   "outputs": [
    {
     "name": "stdout",
     "output_type": "stream",
     "text": [
      "1/1 [==============================] - 0s 18ms/step\n"
     ]
    },
    {
     "data": {
      "image/jpeg": "[encoded data removed]",
      "text/plain": [
       "<IPython.core.display.Image object>"
      ]
     },
     "metadata": {},
     "output_type": "display_data"
    },
    {
     "name": "stdout",
     "output_type": "stream",
     "text": [
      "The model predicts this image is a: sunglasses\n"
     ]
    }
   ],
   "source": [
    "# Load the image\n",
    "img_path = 'test.jpg'\n",
    "img = image.load_img(img_path, target_size=(150, 150))\n",
    "\n",
    "# Preprocess the image\n",
    "input_arr = image.img_to_array(img)\n",
    "input_arr = np.array([input_arr])\n",
    "\n",
    "# Make the prediction\n",
    "predictions = loaded_model.predict(input_arr)\n",
    "\n",
    "display(Image(filename=img_path))\n",
    "        \n",
    "\n",
    "# Decode the prediction\n",
    "class_names = ['glasses', 'hand', 'mask', 'none', 'other', 'sunglasses']  # order of labels may vary based on your dataset, ensure the correct order\n",
    "predicted_class = class_names[np.argmax(predictions)]\n",
    "print(\"The model predicts this image is a:\", predicted_class)\n"
   ]
  },
  {
   "cell_type": "markdown",
   "id": "4049b6d2",
   "metadata": {},
   "source": [
    "## Template for classifying a test image #2\n"
   ]
  },
  {
   "cell_type": "code",
   "execution_count": 68,
   "id": "5b794bab",
   "metadata": {},
   "outputs": [
    {
     "name": "stdout",
     "output_type": "stream",
     "text": [
      "1/1 [==============================] - 0s 17ms/step\n",
      "glasses: 0.0\n",
      "hand: 0.0\n",
      "mask: 0.0\n",
      "none: 0.0\n",
      "other: 0.0\n",
      "sunglasses: 1.0\n"
     ]
    }
   ],
   "source": [
    "from tensorflow.keras.preprocessing import image\n",
    "from tensorflow.keras.applications.vgg16 import preprocess_input\n",
    "import numpy as np\n",
    "\n",
    "# Load the image\n",
    "img_path = 'test.jpg'\n",
    "img = image.load_img(img_path, target_size=(150, 150))\n",
    "\n",
    "# Convert the image to a numpy array\n",
    "x = image.img_to_array(img)\n",
    "\n",
    "# Add a dimension to match the model's input shape\n",
    "x = np.expand_dims(x, axis=0)\n",
    "\n",
    "# Preprocess the image\n",
    "x = preprocess_input(x)\n",
    "\n",
    "# Use the model to make a prediction\n",
    "predictions = loaded_model.predict(x)\n",
    "\n",
    "# Since this is a multi-label classification, each label will have a separate probability\n",
    "# We can consider labels with probability > 0.5 as active\n",
    "predicted_labels = predictions[0]\n",
    "\n",
    "# Get the labels from the dataframe\n",
    "labels = df.columns[1:]  # we skip the first column which is 'id'\n",
    "\n",
    "# Create a dictionary mapping the labels to the predictions\n",
    "label_predictions = dict(zip(labels, predicted_labels))\n",
    "\n",
    "# Print the label predictions\n",
    "for label, prediction in label_predictions.items():\n",
    "    print(f\"{label}: {prediction}\")\n"
   ]
  },
  {
   "cell_type": "code",
   "execution_count": null,
   "id": "bf5ee130",
   "metadata": {},
   "outputs": [],
   "source": []
  }
 ],
 "metadata": {
  "kernelspec": {
   "display_name": "Python 3 (ipykernel)",
   "language": "python",
   "name": "python3"
  },
  "language_info": {
   "codemirror_mode": {
    "name": "ipython",
    "version": 3
   },
   "file_extension": ".py",
   "mimetype": "text/x-python",
   "name": "python",
   "nbconvert_exporter": "python",
   "pygments_lexer": "ipython3",
   "version": "3.9.13"
  }
 },
 "nbformat": 4,
 "nbformat_minor": 5
}
